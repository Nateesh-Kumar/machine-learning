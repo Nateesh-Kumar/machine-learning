{
  "nbformat": 4,
  "nbformat_minor": 0,
  "metadata": {
    "colab": {
      "provenance": [],
      "mount_file_id": "1kZCugr4oQl1Sl3haGU9iYybtl6KT4EFe",
      "authorship_tag": "ABX9TyO8tvcVpTDY21X034pH5S6R"
    },
    "kernelspec": {
      "name": "python3",
      "display_name": "Python 3"
    },
    "language_info": {
      "name": "python"
    }
  },
  "cells": [
    {
      "cell_type": "code",
      "execution_count": null,
      "metadata": {
        "colab": {
          "base_uri": "https://localhost:8080/"
        },
        "id": "xqEXAShhXbR5",
        "outputId": "e1590531-0afa-4cd5-a0a4-6c507a6bbfb4"
      },
      "outputs": [
        {
          "output_type": "stream",
          "name": "stderr",
          "text": [
            "<ipython-input-3-500f2faf370e>:14: SettingWithCopyWarning: \n",
            "A value is trying to be set on a copy of a slice from a DataFrame.\n",
            "Try using .loc[row_indexer,col_indexer] = value instead\n",
            "\n",
            "See the caveats in the documentation: https://pandas.pydata.org/pandas-docs/stable/user_guide/indexing.html#returning-a-view-versus-a-copy\n",
            "  X['Intercept'] = 1\n"
          ]
        }
      ],
      "source": [
        "import pandas as pd\n",
        "\n",
        "# Load the dataset\n",
        "data = pd.read_csv(\"/content/drive/MyDrive/Colab Notebooks/DATASET/Student_Performance.csv\")\n",
        "\n",
        "# Drop any missing values\n",
        "data.dropna(inplace=True)\n",
        "\n",
        "# Split the data into independent variables (X) and dependent variable (Y)\n",
        "X = data[['Hours Studied', 'Sample Question Papers Practiced']]\n",
        "Y = data['Performance Index']\n",
        "\n",
        "# Add a column of ones to X for the intercept term\n",
        "X['Intercept'] = 1\n"
      ]
    },
    {
      "cell_type": "code",
      "source": [
        "def gradient_descent(X, Y, learning_rate, iterations):\n",
        "    m1 = 0\n",
        "    m2 = 0\n",
        "    c = 0\n",
        "    n = len(Y)\n",
        "\n",
        "    for _ in range(iterations):\n",
        "        # Calculate predictions\n",
        "        Y_pred = m1 * X['Hours Studied'] + m2 * X['Sample Question Papers Practiced'] + c\n",
        "\n",
        "        # Calculate gradients\n",
        "        dm1 = (-2/n) * sum(X['Hours Studied'] * (Y - Y_pred))\n",
        "        dm2 = (-2/n) * sum(X['Sample Question Papers Practiced'] * (Y - Y_pred))\n",
        "        dc = (-2/n) * sum(Y - Y_pred)\n",
        "\n",
        "        # Update parameters\n",
        "        m1 = m1 - learning_rate * dm1\n",
        "        m2 = m2 - learning_rate * dm2\n",
        "        c = c - learning_rate * dc\n",
        "\n",
        "    return m1, m2, c\n"
      ],
      "metadata": {
        "id": "vYddQqENXtEc"
      },
      "execution_count": null,
      "outputs": []
    },
    {
      "cell_type": "code",
      "source": [
        "learning_rate = 0.0001\n",
        "iterations = 1000\n",
        "\n",
        "m1, m2, c = gradient_descent(X, Y, learning_rate, iterations)\n",
        "\n",
        "print(\"Slope m1:\", m1)\n",
        "print(\"Slope m2:\", m2)\n",
        "print(\"Intercept c:\", c)\n"
      ],
      "metadata": {
        "colab": {
          "base_uri": "https://localhost:8080/"
        },
        "id": "cc53IoRBXxi_",
        "outputId": "69802476-2a5b-4d08-be5a-d3cbeb69b378"
      },
      "execution_count": null,
      "outputs": [
        {
          "output_type": "stream",
          "name": "stdout",
          "text": [
            "Slope m1: 6.338070804121976\n",
            "Slope m2: 3.548072788264742\n",
            "Intercept c: 2.00464346972408\n"
          ]
        }
      ]
    },
    {
      "cell_type": "code",
      "source": [
        "# Predict performance scores\n",
        "predictions = m1 * X['Hours Studied'] + m2 * X['Sample Question Papers Practiced'] + c\n",
        "\n",
        "# Print the predictions\n",
        "print(predictions)\n"
      ],
      "metadata": {
        "colab": {
          "base_uri": "https://localhost:8080/"
        },
        "id": "JULrh7KKYxGN",
        "outputId": "e85b44b3-6596-4985-ca3e-5dec2bb1d1de"
      },
      "execution_count": null,
      "outputs": [
        {
          "output_type": "stream",
          "name": "stdout",
          "text": [
            "0       49.919212\n",
            "1       34.453072\n",
            "2       59.805355\n",
            "3       40.791143\n",
            "4       64.111503\n",
            "          ...    \n",
            "9995    15.438860\n",
            "9996    64.111503\n",
            "9997    57.773432\n",
            "9998    59.047281\n",
            "9999    49.919212\n",
            "Length: 10000, dtype: float64\n"
          ]
        }
      ]
    }
  ]
}